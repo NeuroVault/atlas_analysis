{
 "cells": [
  {
   "cell_type": "code",
   "execution_count": 1,
   "metadata": {
    "collapsed": false
   },
   "outputs": [
    {
     "name": "stderr",
     "output_type": "stream",
     "text": [
      "/opt/conda/envs/python2/lib/python2.7/site-packages/matplotlib/__init__.py:1357: UserWarning:  This call to matplotlib.use() has no effect\n",
      "because the backend has already been chosen;\n",
      "matplotlib.use() must be called *before* pylab, matplotlib.pyplot,\n",
      "or matplotlib.backends is imported for the first time.\n",
      "\n",
      "  warnings.warn(_use_error_msg)\n"
     ]
    }
   ],
   "source": [
    "import pandas as pd\n",
    "import seaborn as sns\n",
    "import pylab as plt\n",
    "import nibabel as nb\n",
    "import numpy as np\n",
    "import os\n",
    "from nilearn.image import resample_img, smooth_img\n",
    "from nilearn.plotting import plot_glass_brain, plot_stat_map\n",
    "from scipy import stats\n",
    "import joblib\n",
    "%matplotlib inline"
   ]
  },
  {
   "cell_type": "code",
   "execution_count": 2,
   "metadata": {
    "collapsed": true
   },
   "outputs": [],
   "source": [
    "df = pd.read_csv(\"/data/smoothness_and_volume.csv\", index_col=0)"
   ]
  },
  {
   "cell_type": "code",
   "execution_count": 3,
   "metadata": {
    "collapsed": true
   },
   "outputs": [],
   "source": [
    "import numpy as np\n",
    "\n",
    "def hist_match(source, t_quantiles, t_values):\n",
    "    \"\"\"\n",
    "    Adjust the pixel values of a grayscale image such that its histogram\n",
    "    matches that of a target image\n",
    "\n",
    "    Arguments:\n",
    "    -----------\n",
    "        source: np.ndarray\n",
    "            Image to transform; the histogram is computed over the flattened\n",
    "            array\n",
    "        template: np.ndarray\n",
    "            Template image; can have different dimensions to source\n",
    "    Returns:\n",
    "    -----------\n",
    "        matched: np.ndarray\n",
    "            The transformed output image\n",
    "    \"\"\"\n",
    "\n",
    "    oldshape = source.shape\n",
    "    source = source.ravel()\n",
    "\n",
    "    # get the set of unique pixel values and their corresponding indices and\n",
    "    # counts\n",
    "    s_values, bin_idx, s_counts = np.unique(source, return_inverse=True,\n",
    "                                            return_counts=True)\n",
    "\n",
    "    # take the cumsum of the counts and normalize by the number of pixels to\n",
    "    # get the empirical cumulative distribution functions for the source and\n",
    "    # template images (maps pixel value --> quantile)\n",
    "    s_quantiles = np.cumsum(s_counts).astype(np.float64)\n",
    "    s_quantiles /= s_quantiles[-1]\n",
    "    \n",
    "    # interpolate linearly to find the pixel values in the template image\n",
    "    # that correspond most closely to the quantiles in the source image\n",
    "    interp_t_values = np.interp(s_quantiles, t_quantiles, t_values)\n",
    "\n",
    "    return interp_t_values[bin_idx].reshape(oldshape)"
   ]
  },
  {
   "cell_type": "code",
   "execution_count": 4,
   "metadata": {
    "collapsed": true
   },
   "outputs": [],
   "source": [
    "def save_fake_map(orig_inside_mask, map_nii, row, mask_nii, t_quantiles, t_values, i, j):\n",
    "    np.random.seed(j)\n",
    "    new_data = np.random.choice(orig_inside_mask, size=map_nii.shape, replace=True)\n",
    "\n",
    "    shuffled_nii = nb.Nifti1Image(new_data, map_nii.affine, map_nii.header)\n",
    "    smoothed_nii = smooth_img(shuffled_nii, np.array([row.FWHMx_mm, row.FWHMy_mm, row.FWHMz_mm]))\n",
    "    new_data = smoothed_nii.get_data()\n",
    "    new_data[mask_nii.get_data() != 1] = np.nan\n",
    "    new_inside_mask = stats.zscore(new_data[mask_nii.get_data() == 1])\n",
    "\n",
    "    new_data[mask_nii.get_data() == 1] = new_inside_mask #hist_match(new_inside_mask, t_quantiles, t_values)\n",
    "\n",
    "    masked_nii = nb.Nifti1Image(new_data, map_nii.affine, map_nii.header)\n",
    "        \n",
    "    masked_nii.to_filename(\"/data/images/fake_maps/%04d/%04d.nii.gz\"%(i, j))"
   ]
  },
  {
   "cell_type": "code",
   "execution_count": 5,
   "metadata": {
    "collapsed": false
   },
   "outputs": [
    {
     "name": "stdout",
     "output_type": "stream",
     "text": [
      "generating fake data for map images/resampled/0003.nii.gz\n",
      "generating fake data for map images/resampled/0004.nii.gz\n"
     ]
    },
    {
     "name": "stderr",
     "output_type": "stream",
     "text": [
      "/opt/conda/envs/python2/lib/python2.7/site-packages/nilearn/image/image.py:201: FutureWarning: elementwise comparison failed; returning scalar instead, but in the future will perform elementwise comparison\n",
      "  if fwhm == 'fast':\n",
      "/opt/conda/envs/python2/lib/python2.7/site-packages/nilearn/image/image.py:201: FutureWarning: elementwise comparison failed; returning scalar instead, but in the future will perform elementwise comparison\n",
      "  if fwhm == 'fast':\n",
      "/opt/conda/envs/python2/lib/python2.7/site-packages/nilearn/image/image.py:201: FutureWarning: elementwise comparison failed; returning scalar instead, but in the future will perform elementwise comparison\n",
      "  if fwhm == 'fast':\n",
      "/opt/conda/envs/python2/lib/python2.7/site-packages/nilearn/image/image.py:201: FutureWarning: elementwise comparison failed; returning scalar instead, but in the future will perform elementwise comparison\n",
      "  if fwhm == 'fast':\n"
     ]
    },
    {
     "name": "stdout",
     "output_type": "stream",
     "text": [
      "generating fake data for map images/resampled/0005.nii.gz\n"
     ]
    },
    {
     "name": "stderr",
     "output_type": "stream",
     "text": [
      "/opt/conda/envs/python2/lib/python2.7/site-packages/nilearn/image/image.py:201: FutureWarning: elementwise comparison failed; returning scalar instead, but in the future will perform elementwise comparison\n",
      "  if fwhm == 'fast':\n",
      "/opt/conda/envs/python2/lib/python2.7/site-packages/nilearn/image/image.py:201: FutureWarning: elementwise comparison failed; returning scalar instead, but in the future will perform elementwise comparison\n",
      "  if fwhm == 'fast':\n",
      "/opt/conda/envs/python2/lib/python2.7/site-packages/nilearn/image/image.py:201: FutureWarning: elementwise comparison failed; returning scalar instead, but in the future will perform elementwise comparison\n",
      "  if fwhm == 'fast':\n",
      "/opt/conda/envs/python2/lib/python2.7/site-packages/nilearn/image/image.py:201: FutureWarning: elementwise comparison failed; returning scalar instead, but in the future will perform elementwise comparison\n",
      "  if fwhm == 'fast':\n"
     ]
    },
    {
     "name": "stdout",
     "output_type": "stream",
     "text": [
      "generating fake data for map images/resampled/0056.nii.gz\n"
     ]
    },
    {
     "name": "stderr",
     "output_type": "stream",
     "text": [
      "/opt/conda/envs/python2/lib/python2.7/site-packages/nilearn/image/image.py:201: FutureWarning: elementwise comparison failed; returning scalar instead, but in the future will perform elementwise comparison\n",
      "  if fwhm == 'fast':\n",
      "/opt/conda/envs/python2/lib/python2.7/site-packages/nilearn/image/image.py:201: FutureWarning: elementwise comparison failed; returning scalar instead, but in the future will perform elementwise comparison\n",
      "  if fwhm == 'fast':\n",
      "/opt/conda/envs/python2/lib/python2.7/site-packages/nilearn/image/image.py:201: FutureWarning: elementwise comparison failed; returning scalar instead, but in the future will perform elementwise comparison\n",
      "  if fwhm == 'fast':\n",
      "/opt/conda/envs/python2/lib/python2.7/site-packages/nilearn/image/image.py:201: FutureWarning: elementwise comparison failed; returning scalar instead, but in the future will perform elementwise comparison\n",
      "  if fwhm == 'fast':\n"
     ]
    },
    {
     "name": "stdout",
     "output_type": "stream",
     "text": [
      "generating fake data for map images/resampled/0057.nii.gz\n"
     ]
    },
    {
     "name": "stderr",
     "output_type": "stream",
     "text": [
      "/opt/conda/envs/python2/lib/python2.7/site-packages/nilearn/image/image.py:201: FutureWarning: elementwise comparison failed; returning scalar instead, but in the future will perform elementwise comparison\n",
      "  if fwhm == 'fast':\n",
      "/opt/conda/envs/python2/lib/python2.7/site-packages/nilearn/image/image.py:201: FutureWarning: elementwise comparison failed; returning scalar instead, but in the future will perform elementwise comparison\n",
      "  if fwhm == 'fast':\n",
      "/opt/conda/envs/python2/lib/python2.7/site-packages/nilearn/image/image.py:201: FutureWarning: elementwise comparison failed; returning scalar instead, but in the future will perform elementwise comparison\n",
      "  if fwhm == 'fast':\n",
      "/opt/conda/envs/python2/lib/python2.7/site-packages/nilearn/image/image.py:201: FutureWarning: elementwise comparison failed; returning scalar instead, but in the future will perform elementwise comparison\n",
      "  if fwhm == 'fast':\n"
     ]
    },
    {
     "name": "stdout",
     "output_type": "stream",
     "text": [
      "generating fake data for map images/resampled/0058.nii.gz\n"
     ]
    },
    {
     "name": "stderr",
     "output_type": "stream",
     "text": [
      "/opt/conda/envs/python2/lib/python2.7/site-packages/nilearn/image/image.py:201: FutureWarning: elementwise comparison failed; returning scalar instead, but in the future will perform elementwise comparison\n",
      "  if fwhm == 'fast':\n",
      "/opt/conda/envs/python2/lib/python2.7/site-packages/nilearn/image/image.py:201: FutureWarning: elementwise comparison failed; returning scalar instead, but in the future will perform elementwise comparison\n",
      "  if fwhm == 'fast':\n",
      "/opt/conda/envs/python2/lib/python2.7/site-packages/nilearn/image/image.py:201: FutureWarning: elementwise comparison failed; returning scalar instead, but in the future will perform elementwise comparison\n",
      "  if fwhm == 'fast':\n",
      "/opt/conda/envs/python2/lib/python2.7/site-packages/nilearn/image/image.py:201: FutureWarning: elementwise comparison failed; returning scalar instead, but in the future will perform elementwise comparison\n",
      "  if fwhm == 'fast':\n"
     ]
    },
    {
     "name": "stdout",
     "output_type": "stream",
     "text": [
      "generating fake data for map images/resampled/0106.nii.gz\n"
     ]
    },
    {
     "name": "stderr",
     "output_type": "stream",
     "text": [
      "/opt/conda/envs/python2/lib/python2.7/site-packages/nilearn/image/image.py:201: FutureWarning: elementwise comparison failed; returning scalar instead, but in the future will perform elementwise comparison\n",
      "  if fwhm == 'fast':\n",
      "/opt/conda/envs/python2/lib/python2.7/site-packages/nilearn/image/image.py:201: FutureWarning: elementwise comparison failed; returning scalar instead, but in the future will perform elementwise comparison\n",
      "  if fwhm == 'fast':\n",
      "/opt/conda/envs/python2/lib/python2.7/site-packages/nilearn/image/image.py:201: FutureWarning: elementwise comparison failed; returning scalar instead, but in the future will perform elementwise comparison\n",
      "  if fwhm == 'fast':\n",
      "/opt/conda/envs/python2/lib/python2.7/site-packages/nilearn/image/image.py:201: FutureWarning: elementwise comparison failed; returning scalar instead, but in the future will perform elementwise comparison\n",
      "  if fwhm == 'fast':\n"
     ]
    },
    {
     "name": "stdout",
     "output_type": "stream",
     "text": [
      "generating fake data for map images/resampled/0109.nii.gz\n"
     ]
    },
    {
     "name": "stderr",
     "output_type": "stream",
     "text": [
      "/opt/conda/envs/python2/lib/python2.7/site-packages/nilearn/image/image.py:201: FutureWarning: elementwise comparison failed; returning scalar instead, but in the future will perform elementwise comparison\n",
      "  if fwhm == 'fast':\n",
      "/opt/conda/envs/python2/lib/python2.7/site-packages/nilearn/image/image.py:201: FutureWarning: elementwise comparison failed; returning scalar instead, but in the future will perform elementwise comparison\n",
      "  if fwhm == 'fast':\n",
      "/opt/conda/envs/python2/lib/python2.7/site-packages/nilearn/image/image.py:201: FutureWarning: elementwise comparison failed; returning scalar instead, but in the future will perform elementwise comparison\n",
      "  if fwhm == 'fast':\n",
      "/opt/conda/envs/python2/lib/python2.7/site-packages/nilearn/image/image.py:201: FutureWarning: elementwise comparison failed; returning scalar instead, but in the future will perform elementwise comparison\n",
      "  if fwhm == 'fast':\n"
     ]
    },
    {
     "name": "stdout",
     "output_type": "stream",
     "text": [
      "generating fake data for map images/resampled/0110.nii.gz\n"
     ]
    },
    {
     "name": "stderr",
     "output_type": "stream",
     "text": [
      "/opt/conda/envs/python2/lib/python2.7/site-packages/nilearn/image/image.py:201: FutureWarning: elementwise comparison failed; returning scalar instead, but in the future will perform elementwise comparison\n",
      "  if fwhm == 'fast':\n",
      "/opt/conda/envs/python2/lib/python2.7/site-packages/nilearn/image/image.py:201: FutureWarning: elementwise comparison failed; returning scalar instead, but in the future will perform elementwise comparison\n",
      "  if fwhm == 'fast':\n",
      "/opt/conda/envs/python2/lib/python2.7/site-packages/nilearn/image/image.py:201: FutureWarning: elementwise comparison failed; returning scalar instead, but in the future will perform elementwise comparison\n",
      "  if fwhm == 'fast':\n",
      "/opt/conda/envs/python2/lib/python2.7/site-packages/nilearn/image/image.py:201: FutureWarning: elementwise comparison failed; returning scalar instead, but in the future will perform elementwise comparison\n",
      "  if fwhm == 'fast':\n"
     ]
    },
    {
     "name": "stdout",
     "output_type": "stream",
     "text": [
      "generating fake data for map images/resampled/0111.nii.gz\n"
     ]
    },
    {
     "name": "stderr",
     "output_type": "stream",
     "text": [
      "/opt/conda/envs/python2/lib/python2.7/site-packages/nilearn/image/image.py:201: FutureWarning: elementwise comparison failed; returning scalar instead, but in the future will perform elementwise comparison\n",
      "  if fwhm == 'fast':\n",
      "/opt/conda/envs/python2/lib/python2.7/site-packages/nilearn/image/image.py:201: FutureWarning: elementwise comparison failed; returning scalar instead, but in the future will perform elementwise comparison\n",
      "  if fwhm == 'fast':\n",
      "/opt/conda/envs/python2/lib/python2.7/site-packages/nilearn/image/image.py:201: FutureWarning: elementwise comparison failed; returning scalar instead, but in the future will perform elementwise comparison\n",
      "  if fwhm == 'fast':\n",
      "/opt/conda/envs/python2/lib/python2.7/site-packages/nilearn/image/image.py:201: FutureWarning: elementwise comparison failed; returning scalar instead, but in the future will perform elementwise comparison\n",
      "  if fwhm == 'fast':\n"
     ]
    },
    {
     "name": "stdout",
     "output_type": "stream",
     "text": [
      "generating fake data for map images/resampled/0112.nii.gz\n"
     ]
    },
    {
     "name": "stderr",
     "output_type": "stream",
     "text": [
      "/opt/conda/envs/python2/lib/python2.7/site-packages/nilearn/image/image.py:201: FutureWarning: elementwise comparison failed; returning scalar instead, but in the future will perform elementwise comparison\n",
      "  if fwhm == 'fast':\n",
      "/opt/conda/envs/python2/lib/python2.7/site-packages/nilearn/image/image.py:201: FutureWarning: elementwise comparison failed; returning scalar instead, but in the future will perform elementwise comparison\n",
      "  if fwhm == 'fast':\n",
      "/opt/conda/envs/python2/lib/python2.7/site-packages/nilearn/image/image.py:201: FutureWarning: elementwise comparison failed; returning scalar instead, but in the future will perform elementwise comparison\n",
      "  if fwhm == 'fast':\n",
      "/opt/conda/envs/python2/lib/python2.7/site-packages/nilearn/image/image.py:201: FutureWarning: elementwise comparison failed; returning scalar instead, but in the future will perform elementwise comparison\n",
      "  if fwhm == 'fast':\n"
     ]
    },
    {
     "name": "stdout",
     "output_type": "stream",
     "text": [
      "generating fake data for map images/resampled/0113.nii.gz\n"
     ]
    },
    {
     "name": "stderr",
     "output_type": "stream",
     "text": [
      "/opt/conda/envs/python2/lib/python2.7/site-packages/nilearn/image/image.py:201: FutureWarning: elementwise comparison failed; returning scalar instead, but in the future will perform elementwise comparison\n",
      "  if fwhm == 'fast':\n",
      "/opt/conda/envs/python2/lib/python2.7/site-packages/nilearn/image/image.py:201: FutureWarning: elementwise comparison failed; returning scalar instead, but in the future will perform elementwise comparison\n",
      "  if fwhm == 'fast':\n",
      "/opt/conda/envs/python2/lib/python2.7/site-packages/nilearn/image/image.py:201: FutureWarning: elementwise comparison failed; returning scalar instead, but in the future will perform elementwise comparison\n",
      "  if fwhm == 'fast':\n",
      "/opt/conda/envs/python2/lib/python2.7/site-packages/nilearn/image/image.py:201: FutureWarning: elementwise comparison failed; returning scalar instead, but in the future will perform elementwise comparison\n",
      "  if fwhm == 'fast':\n"
     ]
    },
    {
     "name": "stdout",
     "output_type": "stream",
     "text": [
      "generating fake data for map images/resampled/0115.nii.gz\n"
     ]
    },
    {
     "name": "stderr",
     "output_type": "stream",
     "text": [
      "/opt/conda/envs/python2/lib/python2.7/site-packages/nilearn/image/image.py:201: FutureWarning: elementwise comparison failed; returning scalar instead, but in the future will perform elementwise comparison\n",
      "  if fwhm == 'fast':\n",
      "/opt/conda/envs/python2/lib/python2.7/site-packages/nilearn/image/image.py:201: FutureWarning: elementwise comparison failed; returning scalar instead, but in the future will perform elementwise comparison\n",
      "  if fwhm == 'fast':\n",
      "/opt/conda/envs/python2/lib/python2.7/site-packages/nilearn/image/image.py:201: FutureWarning: elementwise comparison failed; returning scalar instead, but in the future will perform elementwise comparison\n",
      "  if fwhm == 'fast':\n",
      "/opt/conda/envs/python2/lib/python2.7/site-packages/nilearn/image/image.py:201: FutureWarning: elementwise comparison failed; returning scalar instead, but in the future will perform elementwise comparison\n",
      "  if fwhm == 'fast':\n"
     ]
    },
    {
     "name": "stdout",
     "output_type": "stream",
     "text": [
      "generating fake data for map images/resampled/0116.nii.gz\n"
     ]
    },
    {
     "name": "stderr",
     "output_type": "stream",
     "text": [
      "/opt/conda/envs/python2/lib/python2.7/site-packages/nilearn/image/image.py:201: FutureWarning: elementwise comparison failed; returning scalar instead, but in the future will perform elementwise comparison\n",
      "  if fwhm == 'fast':\n",
      "/opt/conda/envs/python2/lib/python2.7/site-packages/nilearn/image/image.py:201: FutureWarning: elementwise comparison failed; returning scalar instead, but in the future will perform elementwise comparison\n",
      "  if fwhm == 'fast':\n",
      "/opt/conda/envs/python2/lib/python2.7/site-packages/nilearn/image/image.py:201: FutureWarning: elementwise comparison failed; returning scalar instead, but in the future will perform elementwise comparison\n",
      "  if fwhm == 'fast':\n",
      "/opt/conda/envs/python2/lib/python2.7/site-packages/nilearn/image/image.py:201: FutureWarning: elementwise comparison failed; returning scalar instead, but in the future will perform elementwise comparison\n",
      "  if fwhm == 'fast':\n"
     ]
    },
    {
     "name": "stdout",
     "output_type": "stream",
     "text": [
      "generating fake data for map images/resampled/0117.nii.gz\n"
     ]
    },
    {
     "name": "stderr",
     "output_type": "stream",
     "text": [
      "/opt/conda/envs/python2/lib/python2.7/site-packages/nilearn/image/image.py:201: FutureWarning: elementwise comparison failed; returning scalar instead, but in the future will perform elementwise comparison\n",
      "  if fwhm == 'fast':\n",
      "/opt/conda/envs/python2/lib/python2.7/site-packages/nilearn/image/image.py:201: FutureWarning: elementwise comparison failed; returning scalar instead, but in the future will perform elementwise comparison\n",
      "  if fwhm == 'fast':\n",
      "/opt/conda/envs/python2/lib/python2.7/site-packages/nilearn/image/image.py:201: FutureWarning: elementwise comparison failed; returning scalar instead, but in the future will perform elementwise comparison\n",
      "  if fwhm == 'fast':\n",
      "/opt/conda/envs/python2/lib/python2.7/site-packages/nilearn/image/image.py:201: FutureWarning: elementwise comparison failed; returning scalar instead, but in the future will perform elementwise comparison\n",
      "  if fwhm == 'fast':\n"
     ]
    },
    {
     "name": "stdout",
     "output_type": "stream",
     "text": [
      "generating fake data for map images/resampled/0118.nii.gz\n"
     ]
    },
    {
     "name": "stderr",
     "output_type": "stream",
     "text": [
      "/opt/conda/envs/python2/lib/python2.7/site-packages/nilearn/image/image.py:201: FutureWarning: elementwise comparison failed; returning scalar instead, but in the future will perform elementwise comparison\n",
      "  if fwhm == 'fast':\n",
      "/opt/conda/envs/python2/lib/python2.7/site-packages/nilearn/image/image.py:201: FutureWarning: elementwise comparison failed; returning scalar instead, but in the future will perform elementwise comparison\n",
      "  if fwhm == 'fast':\n",
      "/opt/conda/envs/python2/lib/python2.7/site-packages/nilearn/image/image.py:201: FutureWarning: elementwise comparison failed; returning scalar instead, but in the future will perform elementwise comparison\n",
      "  if fwhm == 'fast':\n",
      "/opt/conda/envs/python2/lib/python2.7/site-packages/nilearn/image/image.py:201: FutureWarning: elementwise comparison failed; returning scalar instead, but in the future will perform elementwise comparison\n",
      "  if fwhm == 'fast':\n"
     ]
    },
    {
     "name": "stdout",
     "output_type": "stream",
     "text": [
      "generating fake data for map images/resampled/0119.nii.gz\n"
     ]
    },
    {
     "name": "stderr",
     "output_type": "stream",
     "text": [
      "/opt/conda/envs/python2/lib/python2.7/site-packages/nilearn/image/image.py:201: FutureWarning: elementwise comparison failed; returning scalar instead, but in the future will perform elementwise comparison\n",
      "  if fwhm == 'fast':\n",
      "/opt/conda/envs/python2/lib/python2.7/site-packages/nilearn/image/image.py:201: FutureWarning: elementwise comparison failed; returning scalar instead, but in the future will perform elementwise comparison\n",
      "  if fwhm == 'fast':\n",
      "/opt/conda/envs/python2/lib/python2.7/site-packages/nilearn/image/image.py:201: FutureWarning: elementwise comparison failed; returning scalar instead, but in the future will perform elementwise comparison\n",
      "  if fwhm == 'fast':\n",
      "/opt/conda/envs/python2/lib/python2.7/site-packages/nilearn/image/image.py:201: FutureWarning: elementwise comparison failed; returning scalar instead, but in the future will perform elementwise comparison\n",
      "  if fwhm == 'fast':\n"
     ]
    },
    {
     "name": "stdout",
     "output_type": "stream",
     "text": [
      "generating fake data for map images/resampled/0120.nii.gz\n"
     ]
    },
    {
     "name": "stderr",
     "output_type": "stream",
     "text": [
      "/opt/conda/envs/python2/lib/python2.7/site-packages/nilearn/image/image.py:201: FutureWarning: elementwise comparison failed; returning scalar instead, but in the future will perform elementwise comparison\n",
      "  if fwhm == 'fast':\n",
      "/opt/conda/envs/python2/lib/python2.7/site-packages/nilearn/image/image.py:201: FutureWarning: elementwise comparison failed; returning scalar instead, but in the future will perform elementwise comparison\n",
      "  if fwhm == 'fast':\n",
      "/opt/conda/envs/python2/lib/python2.7/site-packages/nilearn/image/image.py:201: FutureWarning: elementwise comparison failed; returning scalar instead, but in the future will perform elementwise comparison\n",
      "  if fwhm == 'fast':\n",
      "/opt/conda/envs/python2/lib/python2.7/site-packages/nilearn/image/image.py:201: FutureWarning: elementwise comparison failed; returning scalar instead, but in the future will perform elementwise comparison\n",
      "  if fwhm == 'fast':\n"
     ]
    },
    {
     "name": "stdout",
     "output_type": "stream",
     "text": [
      "generating fake data for map images/resampled/0121.nii.gz\n"
     ]
    },
    {
     "name": "stderr",
     "output_type": "stream",
     "text": [
      "/opt/conda/envs/python2/lib/python2.7/site-packages/nilearn/image/image.py:201: FutureWarning: elementwise comparison failed; returning scalar instead, but in the future will perform elementwise comparison\n",
      "  if fwhm == 'fast':\n",
      "/opt/conda/envs/python2/lib/python2.7/site-packages/nilearn/image/image.py:201: FutureWarning: elementwise comparison failed; returning scalar instead, but in the future will perform elementwise comparison\n",
      "  if fwhm == 'fast':\n",
      "/opt/conda/envs/python2/lib/python2.7/site-packages/nilearn/image/image.py:201: FutureWarning: elementwise comparison failed; returning scalar instead, but in the future will perform elementwise comparison\n",
      "  if fwhm == 'fast':\n",
      "/opt/conda/envs/python2/lib/python2.7/site-packages/nilearn/image/image.py:201: FutureWarning: elementwise comparison failed; returning scalar instead, but in the future will perform elementwise comparison\n",
      "  if fwhm == 'fast':\n"
     ]
    },
    {
     "name": "stdout",
     "output_type": "stream",
     "text": [
      "generating fake data for map images/resampled/0122.nii.gz\n"
     ]
    },
    {
     "name": "stderr",
     "output_type": "stream",
     "text": [
      "/opt/conda/envs/python2/lib/python2.7/site-packages/nilearn/image/image.py:201: FutureWarning: elementwise comparison failed; returning scalar instead, but in the future will perform elementwise comparison\n",
      "  if fwhm == 'fast':\n",
      "/opt/conda/envs/python2/lib/python2.7/site-packages/nilearn/image/image.py:201: FutureWarning: elementwise comparison failed; returning scalar instead, but in the future will perform elementwise comparison\n",
      "  if fwhm == 'fast':\n",
      "/opt/conda/envs/python2/lib/python2.7/site-packages/nilearn/image/image.py:201: FutureWarning: elementwise comparison failed; returning scalar instead, but in the future will perform elementwise comparison\n",
      "  if fwhm == 'fast':\n",
      "/opt/conda/envs/python2/lib/python2.7/site-packages/nilearn/image/image.py:201: FutureWarning: elementwise comparison failed; returning scalar instead, but in the future will perform elementwise comparison\n",
      "  if fwhm == 'fast':\n"
     ]
    },
    {
     "name": "stdout",
     "output_type": "stream",
     "text": [
      "generating fake data for map images/resampled/0123.nii.gz\n"
     ]
    },
    {
     "name": "stderr",
     "output_type": "stream",
     "text": [
      "/opt/conda/envs/python2/lib/python2.7/site-packages/nilearn/image/image.py:201: FutureWarning: elementwise comparison failed; returning scalar instead, but in the future will perform elementwise comparison\n",
      "  if fwhm == 'fast':\n",
      "/opt/conda/envs/python2/lib/python2.7/site-packages/nilearn/image/image.py:201: FutureWarning: elementwise comparison failed; returning scalar instead, but in the future will perform elementwise comparison\n",
      "  if fwhm == 'fast':\n",
      "/opt/conda/envs/python2/lib/python2.7/site-packages/nilearn/image/image.py:201: FutureWarning: elementwise comparison failed; returning scalar instead, but in the future will perform elementwise comparison\n",
      "  if fwhm == 'fast':\n",
      "/opt/conda/envs/python2/lib/python2.7/site-packages/nilearn/image/image.py:201: FutureWarning: elementwise comparison failed; returning scalar instead, but in the future will perform elementwise comparison\n",
      "  if fwhm == 'fast':\n"
     ]
    },
    {
     "name": "stdout",
     "output_type": "stream",
     "text": [
      "generating fake data for map images/resampled/0124.nii.gz\n"
     ]
    },
    {
     "name": "stderr",
     "output_type": "stream",
     "text": [
      "/opt/conda/envs/python2/lib/python2.7/site-packages/nilearn/image/image.py:201: FutureWarning: elementwise comparison failed; returning scalar instead, but in the future will perform elementwise comparison\n",
      "  if fwhm == 'fast':\n",
      "/opt/conda/envs/python2/lib/python2.7/site-packages/nilearn/image/image.py:201: FutureWarning: elementwise comparison failed; returning scalar instead, but in the future will perform elementwise comparison\n",
      "  if fwhm == 'fast':\n",
      "/opt/conda/envs/python2/lib/python2.7/site-packages/nilearn/image/image.py:201: FutureWarning: elementwise comparison failed; returning scalar instead, but in the future will perform elementwise comparison\n",
      "  if fwhm == 'fast':\n",
      "/opt/conda/envs/python2/lib/python2.7/site-packages/nilearn/image/image.py:201: FutureWarning: elementwise comparison failed; returning scalar instead, but in the future will perform elementwise comparison\n",
      "  if fwhm == 'fast':\n"
     ]
    },
    {
     "name": "stdout",
     "output_type": "stream",
     "text": [
      "generating fake data for map images/resampled/0125.nii.gz\n"
     ]
    },
    {
     "name": "stderr",
     "output_type": "stream",
     "text": [
      "/opt/conda/envs/python2/lib/python2.7/site-packages/nilearn/image/image.py:201: FutureWarning: elementwise comparison failed; returning scalar instead, but in the future will perform elementwise comparison\n",
      "  if fwhm == 'fast':\n",
      "/opt/conda/envs/python2/lib/python2.7/site-packages/nilearn/image/image.py:201: FutureWarning: elementwise comparison failed; returning scalar instead, but in the future will perform elementwise comparison\n",
      "  if fwhm == 'fast':\n",
      "/opt/conda/envs/python2/lib/python2.7/site-packages/nilearn/image/image.py:201: FutureWarning: elementwise comparison failed; returning scalar instead, but in the future will perform elementwise comparison\n",
      "  if fwhm == 'fast':\n",
      "/opt/conda/envs/python2/lib/python2.7/site-packages/nilearn/image/image.py:201: FutureWarning: elementwise comparison failed; returning scalar instead, but in the future will perform elementwise comparison\n",
      "  if fwhm == 'fast':\n"
     ]
    },
    {
     "name": "stdout",
     "output_type": "stream",
     "text": [
      "generating fake data for map images/resampled/0126.nii.gz\n"
     ]
    },
    {
     "name": "stderr",
     "output_type": "stream",
     "text": [
      "/opt/conda/envs/python2/lib/python2.7/site-packages/nilearn/image/image.py:201: FutureWarning: elementwise comparison failed; returning scalar instead, but in the future will perform elementwise comparison\n",
      "  if fwhm == 'fast':\n",
      "/opt/conda/envs/python2/lib/python2.7/site-packages/nilearn/image/image.py:201: FutureWarning: elementwise comparison failed; returning scalar instead, but in the future will perform elementwise comparison\n",
      "  if fwhm == 'fast':\n",
      "/opt/conda/envs/python2/lib/python2.7/site-packages/nilearn/image/image.py:201: FutureWarning: elementwise comparison failed; returning scalar instead, but in the future will perform elementwise comparison\n",
      "  if fwhm == 'fast':\n",
      "/opt/conda/envs/python2/lib/python2.7/site-packages/nilearn/image/image.py:201: FutureWarning: elementwise comparison failed; returning scalar instead, but in the future will perform elementwise comparison\n",
      "  if fwhm == 'fast':\n"
     ]
    },
    {
     "name": "stdout",
     "output_type": "stream",
     "text": [
      "generating fake data for map images/resampled/0127.nii.gz\n"
     ]
    },
    {
     "name": "stderr",
     "output_type": "stream",
     "text": [
      "/opt/conda/envs/python2/lib/python2.7/site-packages/nilearn/image/image.py:201: FutureWarning: elementwise comparison failed; returning scalar instead, but in the future will perform elementwise comparison\n",
      "  if fwhm == 'fast':\n",
      "/opt/conda/envs/python2/lib/python2.7/site-packages/nilearn/image/image.py:201: FutureWarning: elementwise comparison failed; returning scalar instead, but in the future will perform elementwise comparison\n",
      "  if fwhm == 'fast':\n",
      "/opt/conda/envs/python2/lib/python2.7/site-packages/nilearn/image/image.py:201: FutureWarning: elementwise comparison failed; returning scalar instead, but in the future will perform elementwise comparison\n",
      "  if fwhm == 'fast':\n",
      "/opt/conda/envs/python2/lib/python2.7/site-packages/nilearn/image/image.py:201: FutureWarning: elementwise comparison failed; returning scalar instead, but in the future will perform elementwise comparison\n",
      "  if fwhm == 'fast':\n"
     ]
    },
    {
     "name": "stdout",
     "output_type": "stream",
     "text": [
      "generating fake data for map images/resampled/0130.nii.gz\n"
     ]
    },
    {
     "name": "stderr",
     "output_type": "stream",
     "text": [
      "/opt/conda/envs/python2/lib/python2.7/site-packages/nilearn/image/image.py:201: FutureWarning: elementwise comparison failed; returning scalar instead, but in the future will perform elementwise comparison\n",
      "  if fwhm == 'fast':\n",
      "/opt/conda/envs/python2/lib/python2.7/site-packages/nilearn/image/image.py:201: FutureWarning: elementwise comparison failed; returning scalar instead, but in the future will perform elementwise comparison\n",
      "  if fwhm == 'fast':\n",
      "/opt/conda/envs/python2/lib/python2.7/site-packages/nilearn/image/image.py:201: FutureWarning: elementwise comparison failed; returning scalar instead, but in the future will perform elementwise comparison\n",
      "  if fwhm == 'fast':\n",
      "/opt/conda/envs/python2/lib/python2.7/site-packages/nilearn/image/image.py:201: FutureWarning: elementwise comparison failed; returning scalar instead, but in the future will perform elementwise comparison\n",
      "  if fwhm == 'fast':\n"
     ]
    },
    {
     "name": "stdout",
     "output_type": "stream",
     "text": [
      "generating fake data for map images/resampled/0131.nii.gz\n"
     ]
    },
    {
     "name": "stderr",
     "output_type": "stream",
     "text": [
      "/opt/conda/envs/python2/lib/python2.7/site-packages/nilearn/image/image.py:201: FutureWarning: elementwise comparison failed; returning scalar instead, but in the future will perform elementwise comparison\n",
      "  if fwhm == 'fast':\n",
      "/opt/conda/envs/python2/lib/python2.7/site-packages/nilearn/image/image.py:201: FutureWarning: elementwise comparison failed; returning scalar instead, but in the future will perform elementwise comparison\n",
      "  if fwhm == 'fast':\n",
      "/opt/conda/envs/python2/lib/python2.7/site-packages/nilearn/image/image.py:201: FutureWarning: elementwise comparison failed; returning scalar instead, but in the future will perform elementwise comparison\n",
      "  if fwhm == 'fast':\n",
      "/opt/conda/envs/python2/lib/python2.7/site-packages/nilearn/image/image.py:201: FutureWarning: elementwise comparison failed; returning scalar instead, but in the future will perform elementwise comparison\n",
      "  if fwhm == 'fast':\n"
     ]
    },
    {
     "name": "stdout",
     "output_type": "stream",
     "text": [
      "generating fake data for map images/resampled/0132.nii.gz\n"
     ]
    },
    {
     "name": "stderr",
     "output_type": "stream",
     "text": [
      "/opt/conda/envs/python2/lib/python2.7/site-packages/nilearn/image/image.py:201: FutureWarning: elementwise comparison failed; returning scalar instead, but in the future will perform elementwise comparison\n",
      "  if fwhm == 'fast':\n",
      "/opt/conda/envs/python2/lib/python2.7/site-packages/nilearn/image/image.py:201: FutureWarning: elementwise comparison failed; returning scalar instead, but in the future will perform elementwise comparison\n",
      "  if fwhm == 'fast':\n",
      "/opt/conda/envs/python2/lib/python2.7/site-packages/nilearn/image/image.py:201: FutureWarning: elementwise comparison failed; returning scalar instead, but in the future will perform elementwise comparison\n",
      "  if fwhm == 'fast':\n",
      "/opt/conda/envs/python2/lib/python2.7/site-packages/nilearn/image/image.py:201: FutureWarning: elementwise comparison failed; returning scalar instead, but in the future will perform elementwise comparison\n",
      "  if fwhm == 'fast':\n"
     ]
    },
    {
     "name": "stdout",
     "output_type": "stream",
     "text": [
      "generating fake data for map images/resampled/0135.nii.gz\n"
     ]
    },
    {
     "name": "stderr",
     "output_type": "stream",
     "text": [
      "/opt/conda/envs/python2/lib/python2.7/site-packages/nilearn/image/image.py:201: FutureWarning: elementwise comparison failed; returning scalar instead, but in the future will perform elementwise comparison\n",
      "  if fwhm == 'fast':\n",
      "/opt/conda/envs/python2/lib/python2.7/site-packages/nilearn/image/image.py:201: FutureWarning: elementwise comparison failed; returning scalar instead, but in the future will perform elementwise comparison\n",
      "  if fwhm == 'fast':\n",
      "/opt/conda/envs/python2/lib/python2.7/site-packages/nilearn/image/image.py:201: FutureWarning: elementwise comparison failed; returning scalar instead, but in the future will perform elementwise comparison\n",
      "  if fwhm == 'fast':\n",
      "/opt/conda/envs/python2/lib/python2.7/site-packages/nilearn/image/image.py:201: FutureWarning: elementwise comparison failed; returning scalar instead, but in the future will perform elementwise comparison\n",
      "  if fwhm == 'fast':\n"
     ]
    },
    {
     "name": "stdout",
     "output_type": "stream",
     "text": [
      "generating fake data for map images/resampled/0136.nii.gz\n"
     ]
    },
    {
     "name": "stderr",
     "output_type": "stream",
     "text": [
      "/opt/conda/envs/python2/lib/python2.7/site-packages/nilearn/image/image.py:201: FutureWarning: elementwise comparison failed; returning scalar instead, but in the future will perform elementwise comparison\n",
      "  if fwhm == 'fast':\n",
      "/opt/conda/envs/python2/lib/python2.7/site-packages/nilearn/image/image.py:201: FutureWarning: elementwise comparison failed; returning scalar instead, but in the future will perform elementwise comparison\n",
      "  if fwhm == 'fast':\n",
      "/opt/conda/envs/python2/lib/python2.7/site-packages/nilearn/image/image.py:201: FutureWarning: elementwise comparison failed; returning scalar instead, but in the future will perform elementwise comparison\n",
      "  if fwhm == 'fast':\n",
      "/opt/conda/envs/python2/lib/python2.7/site-packages/nilearn/image/image.py:201: FutureWarning: elementwise comparison failed; returning scalar instead, but in the future will perform elementwise comparison\n",
      "  if fwhm == 'fast':\n"
     ]
    },
    {
     "ename": "KeyboardInterrupt",
     "evalue": "",
     "output_type": "error",
     "traceback": [
      "\u001b[1;31m---------------------------------------------------------------------------\u001b[0m",
      "\u001b[1;31mKeyboardInterrupt\u001b[0m                         Traceback (most recent call last)",
      "\u001b[1;32m<ipython-input-5-ba0f3d259cd9>\u001b[0m in \u001b[0;36m<module>\u001b[1;34m()\u001b[0m\n\u001b[0;32m     24\u001b[0m \u001b[1;33m\u001b[0m\u001b[0m\n\u001b[0;32m     25\u001b[0m     \u001b[1;32mfrom\u001b[0m \u001b[0mjoblib\u001b[0m \u001b[1;32mimport\u001b[0m \u001b[0mParallel\u001b[0m\u001b[1;33m,\u001b[0m \u001b[0mdelayed\u001b[0m\u001b[1;33m\u001b[0m\u001b[0m\n\u001b[1;32m---> 26\u001b[1;33m     \u001b[0mParallel\u001b[0m\u001b[1;33m(\u001b[0m\u001b[0mn_jobs\u001b[0m\u001b[1;33m=\u001b[0m\u001b[1;36m4\u001b[0m\u001b[1;33m)\u001b[0m\u001b[1;33m(\u001b[0m\u001b[0mdelayed\u001b[0m\u001b[1;33m(\u001b[0m\u001b[0msave_fake_map\u001b[0m\u001b[1;33m)\u001b[0m\u001b[1;33m(\u001b[0m\u001b[0morig_inside_mask\u001b[0m\u001b[1;33m,\u001b[0m \u001b[0mmap_nii\u001b[0m\u001b[1;33m,\u001b[0m \u001b[0mrow\u001b[0m\u001b[1;33m,\u001b[0m \u001b[0mmask_nii\u001b[0m\u001b[1;33m,\u001b[0m \u001b[0mt_quantiles\u001b[0m\u001b[1;33m,\u001b[0m \u001b[0mt_values\u001b[0m\u001b[1;33m,\u001b[0m \u001b[0mi\u001b[0m\u001b[1;33m,\u001b[0m \u001b[0mj\u001b[0m\u001b[1;33m)\u001b[0m \u001b[1;32mfor\u001b[0m \u001b[0mj\u001b[0m \u001b[1;32min\u001b[0m \u001b[0mrange\u001b[0m\u001b[1;33m(\u001b[0m\u001b[1;36m200\u001b[0m\u001b[1;33m)\u001b[0m\u001b[1;33m)\u001b[0m\u001b[1;33m\u001b[0m\u001b[0m\n\u001b[0m\u001b[0;32m     27\u001b[0m \u001b[1;33m\u001b[0m\u001b[0m\n",
      "\u001b[1;32m/opt/conda/envs/python2/lib/python2.7/site-packages/joblib/parallel.pyc\u001b[0m in \u001b[0;36m__call__\u001b[1;34m(self, iterable)\u001b[0m\n\u001b[0;32m    766\u001b[0m                 \u001b[1;31m# consumption.\u001b[0m\u001b[1;33m\u001b[0m\u001b[1;33m\u001b[0m\u001b[0m\n\u001b[0;32m    767\u001b[0m                 \u001b[0mself\u001b[0m\u001b[1;33m.\u001b[0m\u001b[0m_iterating\u001b[0m \u001b[1;33m=\u001b[0m \u001b[0mFalse\u001b[0m\u001b[1;33m\u001b[0m\u001b[0m\n\u001b[1;32m--> 768\u001b[1;33m             \u001b[0mself\u001b[0m\u001b[1;33m.\u001b[0m\u001b[0mretrieve\u001b[0m\u001b[1;33m(\u001b[0m\u001b[1;33m)\u001b[0m\u001b[1;33m\u001b[0m\u001b[0m\n\u001b[0m\u001b[0;32m    769\u001b[0m             \u001b[1;31m# Make sure that we get a last message telling us we are done\u001b[0m\u001b[1;33m\u001b[0m\u001b[1;33m\u001b[0m\u001b[0m\n\u001b[0;32m    770\u001b[0m             \u001b[0melapsed_time\u001b[0m \u001b[1;33m=\u001b[0m \u001b[0mtime\u001b[0m\u001b[1;33m.\u001b[0m\u001b[0mtime\u001b[0m\u001b[1;33m(\u001b[0m\u001b[1;33m)\u001b[0m \u001b[1;33m-\u001b[0m \u001b[0mself\u001b[0m\u001b[1;33m.\u001b[0m\u001b[0m_start_time\u001b[0m\u001b[1;33m\u001b[0m\u001b[0m\n",
      "\u001b[1;32m/opt/conda/envs/python2/lib/python2.7/site-packages/joblib/parallel.pyc\u001b[0m in \u001b[0;36mretrieve\u001b[1;34m(self)\u001b[0m\n\u001b[0;32m    717\u001b[0m                     \u001b[0mensure_ready\u001b[0m \u001b[1;33m=\u001b[0m \u001b[0mself\u001b[0m\u001b[1;33m.\u001b[0m\u001b[0m_managed_backend\u001b[0m\u001b[1;33m\u001b[0m\u001b[0m\n\u001b[0;32m    718\u001b[0m                     \u001b[0mbackend\u001b[0m\u001b[1;33m.\u001b[0m\u001b[0mabort_everything\u001b[0m\u001b[1;33m(\u001b[0m\u001b[0mensure_ready\u001b[0m\u001b[1;33m=\u001b[0m\u001b[0mensure_ready\u001b[0m\u001b[1;33m)\u001b[0m\u001b[1;33m\u001b[0m\u001b[0m\n\u001b[1;32m--> 719\u001b[1;33m                 \u001b[1;32mraise\u001b[0m \u001b[0mexception\u001b[0m\u001b[1;33m\u001b[0m\u001b[0m\n\u001b[0m\u001b[0;32m    720\u001b[0m \u001b[1;33m\u001b[0m\u001b[0m\n\u001b[0;32m    721\u001b[0m     \u001b[1;32mdef\u001b[0m \u001b[0m__call__\u001b[0m\u001b[1;33m(\u001b[0m\u001b[0mself\u001b[0m\u001b[1;33m,\u001b[0m \u001b[0miterable\u001b[0m\u001b[1;33m)\u001b[0m\u001b[1;33m:\u001b[0m\u001b[1;33m\u001b[0m\u001b[0m\n",
      "\u001b[1;31mKeyboardInterrupt\u001b[0m: "
     ]
    }
   ],
   "source": [
    "!mkdir -p /data/images/fake_maps\n",
    "\n",
    "for i,row in df.iterrows():\n",
    "    print \"generating fake data for map images/resampled/%04d.nii.gz\"%i\n",
    "    map_nii = nb.load(\"/data/images/resampled/%04d.nii.gz\"%i)\n",
    "    mask_nii = nb.load(\"/data/images/resampled_masks/%04d.nii.gz\"%i)\n",
    "    \n",
    "    orig_inside_mask = map_nii.get_data()[mask_nii.get_data() == 1]\n",
    "    \n",
    "    folder_name = \"%04d\"%i\n",
    "    if os.path.exists(\"/data/images/fake_maps/%04d/\"%(i)):\n",
    "        continue\n",
    "    !mkdir -p /data/images/fake_maps/{\"%04d\"%i}\n",
    "    \n",
    "    template = orig_inside_mask.ravel()\n",
    "    \n",
    "    t_values, t_counts = np.unique(template, return_counts=True)\n",
    "\n",
    "    # take the cumsum of the counts and normalize by the number of pixels to\n",
    "    # get the empirical cumulative distribution functions for the source and\n",
    "    # template images (maps pixel value --> quantile)\n",
    "    t_quantiles = np.cumsum(t_counts).astype(np.float64)\n",
    "    t_quantiles /= t_quantiles[-1]\n",
    "    \n",
    "    from joblib import Parallel, delayed\n",
    "    Parallel(n_jobs=4)(delayed(save_fake_map)(orig_inside_mask, map_nii, row, mask_nii, t_quantiles, t_values, i, j) for j in range(200))\n",
    "    "
   ]
  },
  {
   "cell_type": "code",
   "execution_count": 144,
   "metadata": {
    "collapsed": false
   },
   "outputs": [],
   "source": [
    "filenames = !ls images/fake_maps/0003/*.nii.gz\n",
    "\n",
    "image_ids = []\n",
    "FWHMx_mms = []\n",
    "FWHMy_mms = []\n",
    "FWHMz_mms = []\n",
    "volume_voxs = []\n",
    "\n",
    "for fname in filenames:\n",
    "    image_id = fname.split(\"/\")[-1][:-7]\n",
    "    output = !smoothest -z {fname} -m images/resampled_masks/0003.nii.gz -V\n",
    "    FWHMx_mm, FWHMy_mm, FWHMz_mm = [float(val[len(\"FWHMx = \"):-3])  for val in output[-7].split(\", \")]\n",
    "    volume_vox = output[-2].split()[1]\n",
    "    image_ids.append(image_id)\n",
    "    FWHMx_mms.append(FWHMx_mm)\n",
    "    FWHMy_mms.append(FWHMy_mm)\n",
    "    FWHMz_mms.append(FWHMz_mm)\n",
    "    volume_voxs.append(volume_vox)"
   ]
  },
  {
   "cell_type": "code",
   "execution_count": 146,
   "metadata": {
    "collapsed": false
   },
   "outputs": [
    {
     "data": {
      "text/plain": [
       "<matplotlib.axes._subplots.AxesSubplot at 0x11bca6ed0>"
      ]
     },
     "execution_count": 146,
     "metadata": {},
     "output_type": "execute_result"
    },
    {
     "data": {
      "image/png": "[encoded data removed]",
      "text/plain": [
       "<matplotlib.figure.Figure at 0x116596f50>"
      ]
     },
     "metadata": {},
     "output_type": "display_data"
    }
   ],
   "source": [
    "sns.distplot(FWHMx_mms)"
   ]
  },
  {
   "cell_type": "code",
   "execution_count": 150,
   "metadata": {
    "collapsed": false
   },
   "outputs": [
    {
     "data": {
      "text/plain": [
       "(15.604200000000001, 16.566099999999999, 16.220300000000002)"
      ]
     },
     "execution_count": 150,
     "metadata": {},
     "output_type": "execute_result"
    }
   ],
   "source": [
    "row.FWHMx_mm, row.FWHMy_mm, row.FWHMz_mm"
   ]
  },
  {
   "cell_type": "code",
   "execution_count": 148,
   "metadata": {
    "collapsed": false
   },
   "outputs": [
    {
     "data": {
      "text/plain": [
       "<matplotlib.axes._subplots.AxesSubplot at 0x14d1c8b10>"
      ]
     },
     "execution_count": 148,
     "metadata": {},
     "output_type": "execute_result"
    },
    {
     "data": {
      "image/png": "[encoded data removed]",
      "text/plain": [
       "<matplotlib.figure.Figure at 0x14d1be650>"
      ]
     },
     "metadata": {},
     "output_type": "display_data"
    }
   ],
   "source": [
    "sns.distplot(FWHMy_mms)"
   ]
  },
  {
   "cell_type": "code",
   "execution_count": 149,
   "metadata": {
    "collapsed": false
   },
   "outputs": [
    {
     "data": {
      "text/plain": [
       "<matplotlib.axes._subplots.AxesSubplot at 0x15b040450>"
      ]
     },
     "execution_count": 149,
     "metadata": {},
     "output_type": "execute_result"
    },
    {
     "data": {
      "image/png": "[encoded data removed]",
      "text/plain": [
       "<matplotlib.figure.Figure at 0x159b7ff50>"
      ]
     },
     "metadata": {},
     "output_type": "display_data"
    }
   ],
   "source": [
    "sns.distplot(FWHMz_mms)"
   ]
  },
  {
   "cell_type": "code",
   "execution_count": 80,
   "metadata": {
    "collapsed": false
   },
   "outputs": [
    {
     "data": {
      "text/plain": [
       "[<matplotlib.lines.Line2D at 0x10d8aca90>]"
      ]
     },
     "execution_count": 80,
     "metadata": {},
     "output_type": "execute_result"
    },
    {
     "data": {
      "image/png": "[encoded data removed]",
      "text/plain": [
       "<matplotlib.figure.Figure at 0x111b8e8d0>"
      ]
     },
     "metadata": {},
     "output_type": "display_data"
    }
   ],
   "source": [
    "plt.plot(cdf_orig)"
   ]
  },
  {
   "cell_type": "code",
   "execution_count": 101,
   "metadata": {
    "collapsed": false
   },
   "outputs": [
    {
     "data": {
      "text/plain": [
       "<matplotlib.axes._subplots.AxesSubplot at 0x110888710>"
      ]
     },
     "execution_count": 101,
     "metadata": {},
     "output_type": "execute_result"
    },
    {
     "data": {
      "image/png": "[encoded data removed]",
      "text/plain": [
       "<matplotlib.figure.Figure at 0x10d98d550>"
      ]
     },
     "metadata": {},
     "output_type": "display_data"
    }
   ],
   "source": [
    "sns.distplot(im2)"
   ]
  },
  {
   "cell_type": "code",
   "execution_count": 113,
   "metadata": {
    "collapsed": false
   },
   "outputs": [
    {
     "data": {
      "text/plain": [
       "<matplotlib.axes._subplots.AxesSubplot at 0x10df9c250>"
      ]
     },
     "execution_count": 113,
     "metadata": {},
     "output_type": "execute_result"
    },
    {
     "data": {
      "image/png": "[encoded data removed]",
      "text/plain": [
       "<matplotlib.figure.Figure at 0x10f1065d0>"
      ]
     },
     "metadata": {},
     "output_type": "display_data"
    }
   ],
   "source": [
    "nbr_bins = 256\n",
    "imhist_orig, bins_orig = np.histogram(orig_inside_mask,nbr_bins,normed=True)\n",
    "cdf_orig = imhist_orig.cumsum() #cumulative distribution function\n",
    "cdf_orig = 255 * cdf_orig / cdf_orig[-1] #normalize\n",
    "\n",
    "imhist_new, bins_new = np.histogram(new_inside_mask,nbr_bins,normed=True)\n",
    "cdf_new = imhist_new.cumsum() #cumulative distribution function\n",
    "cdf_new = 255 * cdf_new / cdf_new[-1] #normalize\n",
    "\n",
    "im2 = np.interp(new_inside_mask, bins_orig[:-1], cdf_new)\n",
    "im3 = np.interp(im2, cdf_orig, bins_orig[:-1])\n",
    "\n",
    "sns.distplot(orig_inside_mask)\n",
    "sns.distplot(new_inside_mask)\n",
    "sns.distplot(im3)"
   ]
  },
  {
   "cell_type": "code",
   "execution_count": 117,
   "metadata": {
    "collapsed": false
   },
   "outputs": [
    {
     "data": {
      "text/plain": [
       "<matplotlib.axes._subplots.AxesSubplot at 0x112263190>"
      ]
     },
     "execution_count": 117,
     "metadata": {},
     "output_type": "execute_result"
    },
    {
     "data": {
      "image/png": "[encoded data removed]",
      "text/plain": [
       "<matplotlib.figure.Figure at 0x119209b10>"
      ]
     },
     "metadata": {},
     "output_type": "display_data"
    }
   ],
   "source": [
    "sns.distplot(orig_inside_mask)\n",
    "sns.distplot(new_inside_mask)\n",
    "sns.distplot(hist_match(new_inside_mask, orig_inside_mask))"
   ]
  },
  {
   "cell_type": "code",
   "execution_count": 128,
   "metadata": {
    "collapsed": true
   },
   "outputs": [],
   "source": [
    "!fslview /tmp/fake_data.nii.gz"
   ]
  },
  {
   "cell_type": "code",
   "execution_count": 129,
   "metadata": {
    "collapsed": false
   },
   "outputs": [
    {
     "name": "stdout",
     "output_type": "stream",
     "text": [
      "-rw-r--r--  1 filo  wheel   873K Jan  4 11:21 /tmp/fake_data.nii.gz\r\n"
     ]
    }
   ],
   "source": [
    "!ls -alh /tmp/fake_data.nii.gz"
   ]
  },
  {
   "cell_type": "code",
   "execution_count": 131,
   "metadata": {
    "collapsed": true
   },
   "outputs": [],
   "source": [
    "np.savez(\"/tmp/fake.pklz\", new_inside_mask)"
   ]
  },
  {
   "cell_type": "code",
   "execution_count": 132,
   "metadata": {
    "collapsed": false
   },
   "outputs": [
    {
     "name": "stdout",
     "output_type": "stream",
     "text": [
      "-rw-r--r--  1 filo  wheel   893K Jan  4 11:36 /tmp/fake.pklz.npz\r\n"
     ]
    }
   ],
   "source": [
    "!ls -alh /tmp/fake.pklz.npz"
   ]
  },
  {
   "cell_type": "code",
   "execution_count": 27,
   "metadata": {
    "collapsed": false
   },
   "outputs": [
    {
     "data": {
      "text/html": [
       "<div>\n",
       "<table border=\"1\" class=\"dataframe\">\n",
       "  <thead>\n",
       "    <tr style=\"text-align: right;\">\n",
       "      <th></th>\n",
       "      <th>FWHMx_mm</th>\n",
       "      <th>FWHMy_mm</th>\n",
       "      <th>FWHMz_mm</th>\n",
       "      <th>volume_vox</th>\n",
       "    </tr>\n",
       "  </thead>\n",
       "  <tbody>\n",
       "    <tr>\n",
       "      <th>564</th>\n",
       "      <td>19.3934</td>\n",
       "      <td>20.3302</td>\n",
       "      <td>15.624</td>\n",
       "      <td>190626</td>\n",
       "    </tr>\n",
       "  </tbody>\n",
       "</table>\n",
       "</div>"
      ],
      "text/plain": [
       "     FWHMx_mm  FWHMy_mm  FWHMz_mm  volume_vox\n",
       "564   19.3934   20.3302    15.624      190626"
      ]
     },
     "execution_count": 27,
     "metadata": {},
     "output_type": "execute_result"
    }
   ],
   "source": [
    "df[df.index == 564]"
   ]
  },
  {
   "cell_type": "code",
   "execution_count": null,
   "metadata": {
    "collapsed": true
   },
   "outputs": [],
   "source": []
  }
 ],
 "metadata": {
  "kernelspec": {
   "display_name": "Python 2",
   "language": "python",
   "name": "python2"
  },
  "language_info": {
   "codemirror_mode": {
    "name": "ipython",
    "version": 2
   },
   "file_extension": ".py",
   "mimetype": "text/x-python",
   "name": "python",
   "nbconvert_exporter": "python",
   "pygments_lexer": "ipython2",
   "version": "2.7.12"
  }
 },
 "nbformat": 4,
 "nbformat_minor": 0
}
